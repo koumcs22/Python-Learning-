{
 "cells": [
  {
   "cell_type": "code",
   "execution_count": 1,
   "metadata": {},
   "outputs": [
    {
     "name": "stdout",
     "output_type": "stream",
     "text": [
      "=== Inheritance in Python ===\n"
     ]
    }
   ],
   "source": [
    "print(\"=== Inheritance in Python ===\")"
   ]
  },
  {
   "cell_type": "code",
   "execution_count": 6,
   "metadata": {},
   "outputs": [
    {
     "name": "stdout",
     "output_type": "stream",
     "text": [
      "Subscriber with ID 1 subscribed to the plan Premium\n",
      "Subscriber with ID 1 unsubscribed from the plan Premium\n"
     ]
    }
   ],
   "source": [
    "class OTTsubscription: \n",
    "    def __init__(self, subscription_id, subscription_plan, total_payment):\n",
    "        self.id = subscription_id\n",
    "        self.plan = subscription_plan\n",
    "        self.payment = total_payment\n",
    "\n",
    "    def subscribe(self): \n",
    "        print(f\"Subscriber with ID {self.id} subscribed to the plan {self.plan}\")\n",
    "        \n",
    "    def unSubscribe(self): \n",
    "        print(f\"Subscriber with ID {self.id} unsubscribed from the plan {self.plan}\")\n",
    "\n",
    "# Create an instance of OTTsubscription\n",
    "a = OTTsubscription(1, \"Premium\", 1000)\n",
    "\n",
    "# Call the subscribe method\n",
    "a.subscribe()\n",
    "\n",
    "# Call the unsubscribe method\n",
    "a.unSubscribe()"
   ]
  },
  {
   "cell_type": "code",
   "execution_count": null,
   "metadata": {},
   "outputs": [],
   "source": [
    "#Implementing by Inhritance\n",
    "\n",
    "class OTTsubscription: # Parent class\n",
    "    def __init__(self, subscription_id, subscription_plan, total_payment):\n",
    "        self.id = subscription_id\n",
    "        self.plan = subscription_plan\n",
    "        self.payment = total_payment\n",
    "\n",
    "    def subscribe(self): \n",
    "        print(f\"Subscriber with ID {self.id} subscribed to the plan {self.plan}\")\n",
    "        \n",
    "    def unSubscribe(self): \n",
    "        print(f\"Subscriber with ID {self.id} unsubscribed from the plan {self.plan}\")\n",
    "\n",
    "class PremiumSubscription(OTTsubscription):  # child class(subclass)\n",
    "    def __init__(self, subscription_id, subscription_plan, total_payment, screens):\n",
    "        super().__init__(self, subscription_id, subscription_plan, total_payment): # Inheriate from parent class\n",
    "        self.max_screens = screens\n",
    "\n",
    "    def set_max_screens(self, screens): \n",
    "        self.screens= screens\n",
    "        print(f\"Maximum sreenset {self.screens} to this plan {self.plan}\")\n",
    "        \n"
   ]
  }
 ],
 "metadata": {
  "kernelspec": {
   "display_name": "Python 3 (ipykernel)",
   "language": "python",
   "name": "python3"
  },
  "language_info": {
   "codemirror_mode": {
    "name": "ipython",
    "version": 3
   },
   "file_extension": ".py",
   "mimetype": "text/x-python",
   "name": "python",
   "nbconvert_exporter": "python",
   "pygments_lexer": "ipython3",
   "version": "3.12.4"
  }
 },
 "nbformat": 4,
 "nbformat_minor": 4
}
