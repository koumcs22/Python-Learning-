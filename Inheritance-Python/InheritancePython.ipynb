{
 "cells": [
  {
   "cell_type": "code",
   "execution_count": 1,
   "metadata": {},
   "outputs": [
    {
     "name": "stdout",
     "output_type": "stream",
     "text": [
      "=== Inheritance in Python ===\n"
     ]
    }
   ],
   "source": [
    "print(\"=== Inheritance in Python ===\")"
   ]
  },
  {
   "cell_type": "code",
   "execution_count": 6,
   "metadata": {},
   "outputs": [
    {
     "name": "stdout",
     "output_type": "stream",
     "text": [
      "Subscriber with ID 1 subscribed to the plan Premium\n",
      "Subscriber with ID 1 unsubscribed from the plan Premium\n"
     ]
    }
   ],
   "source": [
    "class OTTsubscription: \n",
    "    def __init__(self, subscription_id, subscription_plan, total_payment):\n",
    "        self.id = subscription_id\n",
    "        self.plan = subscription_plan\n",
    "        self.payment = total_payment\n",
    "\n",
    "    def subscribe(self): \n",
    "        print(f\"Subscriber with ID {self.id} subscribed to the plan {self.plan}\")\n",
    "        \n",
    "    def unSubscribe(self): \n",
    "        print(f\"Subscriber with ID {self.id} unsubscribed from the plan {self.plan}\")\n",
    "\n",
    "# Create an instance of OTTsubscription\n",
    "a = OTTsubscription(1, \"Premium\", 1000)\n",
    "\n",
    "# Call the subscribe method\n",
    "a.subscribe()\n",
    "\n",
    "# Call the unsubscribe method\n",
    "a.unSubscribe()"
   ]
  },
  {
   "cell_type": "code",
   "execution_count": 20,
   "metadata": {},
   "outputs": [
    {
     "name": "stdout",
     "output_type": "stream",
     "text": [
      "Subscriber with ID 123456 subscribed to the plan Yearly\n",
      "Maximum screens set to 6 for the plan Yearly\n"
     ]
    }
   ],
   "source": [
    "# Implementing by Inheritance\n",
    "class OTTsubscription:  # Parent class\n",
    "    def __init__(self, subscription_id, subscription_plan, total_payment):\n",
    "        self.id = subscription_id\n",
    "        self.plan = subscription_plan\n",
    "        self.payment = total_payment\n",
    "\n",
    "    def subscribe(self): \n",
    "        print(f\"Subscriber with ID {self.id} subscribed to the plan {self.plan}\")\n",
    "        \n",
    "    def unSubscribe(self): \n",
    "        print(f\"Subscriber with ID {self.id} unsubscribed from the plan {self.plan}\")\n",
    "\n",
    "class PremiumSubscription(OTTsubscription):  # Child class (subclass)\n",
    "    def __init__(self, subscription_id, subscription_plan, total_payment, screens):\n",
    "       \n",
    "        super().__init__(subscription_id, subscription_plan, total_payment)  # Call parent class constructor using super(), no need to pass 'self'\n",
    "        self.max_screens = screens\n",
    "\n",
    "    def set_max_screens(self, screens): \n",
    "        self.max_screens = screens\n",
    "        print(f\"Maximum screens set to {self.max_screens} for the plan {self.plan}\")\n",
    "\n",
    "# Create an instance of PremiumSubscription\n",
    "netflix = PremiumSubscription(\"123456\", \"Yearly\", 1200, 4)\n",
    "\n",
    "# Call the methods\n",
    "netflix.subscribe()\n",
    "netflix.set_max_screens(6)\n",
    "\n",
    "\n",
    "myOtt = OTTsubscription(\"45678\", \"quater\", 100)\n"
   ]
  },
  {
   "cell_type": "code",
   "execution_count": 21,
   "metadata": {},
   "outputs": [
    {
     "data": {
      "text/plain": [
       "'quater'"
      ]
     },
     "execution_count": 21,
     "metadata": {},
     "output_type": "execute_result"
    }
   ],
   "source": [
    "myOtt.plan"
   ]
  },
  {
   "cell_type": "code",
   "execution_count": 23,
   "metadata": {},
   "outputs": [
    {
     "ename": "AttributeError",
     "evalue": "'OTTsubscription' object has no attribute 'set_max_screens'",
     "output_type": "error",
     "traceback": [
      "\u001b[0;31m---------------------------------------------------------------------------\u001b[0m",
      "\u001b[0;31mAttributeError\u001b[0m                            Traceback (most recent call last)",
      "Cell \u001b[0;32mIn[23], line 1\u001b[0m\n\u001b[0;32m----> 1\u001b[0m \u001b[43mmyOtt\u001b[49m\u001b[38;5;241;43m.\u001b[39;49m\u001b[43mset_max_screens\u001b[49m(\u001b[38;5;241m6\u001b[39m) \u001b[38;5;66;03m# not possible as parent cannot inheriate from child\u001b[39;00m\n",
      "\u001b[0;31mAttributeError\u001b[0m: 'OTTsubscription' object has no attribute 'set_max_screens'"
     ]
    }
   ],
   "source": [
    "myOtt.set_max_screens(6) # not possible as parent cannot inheriate from child"
   ]
  },
  {
   "cell_type": "code",
   "execution_count": null,
   "metadata": {},
   "outputs": [],
   "source": []
  }
 ],
 "metadata": {
  "kernelspec": {
   "display_name": "Python 3 (ipykernel)",
   "language": "python",
   "name": "python3"
  },
  "language_info": {
   "codemirror_mode": {
    "name": "ipython",
    "version": 3
   },
   "file_extension": ".py",
   "mimetype": "text/x-python",
   "name": "python",
   "nbconvert_exporter": "python",
   "pygments_lexer": "ipython3",
   "version": "3.12.4"
  }
 },
 "nbformat": 4,
 "nbformat_minor": 4
}
