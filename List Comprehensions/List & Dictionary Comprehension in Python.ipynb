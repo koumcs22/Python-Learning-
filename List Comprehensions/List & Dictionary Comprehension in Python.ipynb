{
 "cells": [
  {
   "cell_type": "code",
   "execution_count": null,
   "id": "36990ee9-f049-4e0b-9f19-668025fe79a8",
   "metadata": {},
   "outputs": [],
   "source": [
    "# List Comprehensions\n",
    "#https://docs.python.org/3/tutorial/datastructures.\n",
    "# ref : https://www.youtube.com/watch?v=qs9VBwobK3w\n",
    "# List comprehensions in Python provide a concise way to create lists. It's a compact alternative to using traditional loops and append() methods for list generation."
   ]
  },
  {
   "cell_type": "code",
   "execution_count": 1,
   "id": "40a622af-8044-4b0b-a1f1-aea0e7a0cc8b",
   "metadata": {},
   "outputs": [
    {
     "name": "stdout",
     "output_type": "stream",
     "text": [
      "[0, 2, 4, 6, 8, 10, 12, 14]\n"
     ]
    }
   ],
   "source": [
    "# let suppose code snippet\n",
    "list = [];\n",
    "for i in range(15):\n",
    "    if i%2 == 0 :\n",
    "        list.append(i)\n",
    "print(list)"
   ]
  },
  {
   "cell_type": "code",
   "execution_count": 2,
   "id": "1bf5b3e8-bb4a-44a3-82aa-8d9a716526b0",
   "metadata": {},
   "outputs": [
    {
     "name": "stdout",
     "output_type": "stream",
     "text": [
      "[0, 2, 4, 6, 8, 10, 12, 14]\n"
     ]
    }
   ],
   "source": [
    "# [expression for item in iterable if condition]\n",
    "list1 = [i for i in range(15) if i%2==0]\n",
    "print(list1)"
   ]
  },
  {
   "cell_type": "code",
   "execution_count": 3,
   "id": "7e819ce5-8e53-407f-b7e0-21de56b05cf1",
   "metadata": {},
   "outputs": [
    {
     "name": "stdout",
     "output_type": "stream",
     "text": [
      "[(0, 0), (0, 1), (0, 2), (1, 0), (1, 1), (1, 2), (2, 0), (2, 1), (2, 2)]\n"
     ]
    }
   ],
   "source": [
    "# Nested Loops in List Comprehension\n",
    "pairs = [(i, j) for i in range(3) for j in range(3)]\n",
    "print(pairs) "
   ]
  },
  {
   "cell_type": "code",
   "execution_count": 4,
   "id": "44d25dfd-e20c-45f8-837c-b762db06af03",
   "metadata": {},
   "outputs": [
    {
     "name": "stdout",
     "output_type": "stream",
     "text": [
      "[5, 5, 6, 4, 7]\n"
     ]
    }
   ],
   "source": [
    "words = [\"hello\", \"world\", \"python\", \"list\", \"koushik\"]\n",
    "list_lengths = [len(word) for word in words]\n",
    "print(list_lengths)"
   ]
  },
  {
   "cell_type": "code",
   "execution_count": 5,
   "id": "6910e8a1-1b6f-4dab-827c-94f404a14f86",
   "metadata": {},
   "outputs": [
    {
     "name": "stdout",
     "output_type": "stream",
     "text": [
      "[0, 1, 4, 3, 16, 5, 36, 7, 64, 9, 100, 11, 144, 13, 196]\n"
     ]
    }
   ],
   "source": [
    "# Using an else Condition\n",
    "modified = [x*x if x%2==0 else x for x in range(15)]\n",
    "print(modified)"
   ]
  },
  {
   "cell_type": "code",
   "execution_count": 6,
   "id": "6e41e878-1aef-465e-9722-1615f624d4d0",
   "metadata": {},
   "outputs": [
    {
     "name": "stdout",
     "output_type": "stream",
     "text": [
      "{0: 0, 2: 4, 4: 16, 6: 36, 8: 64}\n"
     ]
    }
   ],
   "source": [
    "# Dictionary Comprehensions\n",
    "dict = {}\n",
    "for i in range(10):\n",
    "    if i % 2 == 0 :\n",
    "        dict[i] = i*i\n",
    "print(dict)"
   ]
  },
  {
   "cell_type": "code",
   "execution_count": 7,
   "id": "9519925f-cf28-402b-9ab0-5c0bbc154854",
   "metadata": {},
   "outputs": [
    {
     "name": "stdout",
     "output_type": "stream",
     "text": [
      "{0: 0, 2: 4, 4: 16, 6: 36, 8: 64}\n"
     ]
    }
   ],
   "source": [
    "# {key_expression: value_expression for item in iterable if condition}\n",
    "\n",
    "dict1 = {i: i*i for i in range(10) if i%2 == 0 }\n",
    "print(dict1)"
   ]
  },
  {
   "cell_type": "code",
   "execution_count": 8,
   "id": "990b8853-2a22-429c-8e2b-2df5b883d0a4",
   "metadata": {},
   "outputs": [
    {
     "name": "stdout",
     "output_type": "stream",
     "text": [
      "{0: 'Even', 1: 'Odd', 2: 'Even', 3: 'Odd', 4: 'Even', 5: 'Odd', 6: 'Even', 7: 'Odd', 8: 'Even', 9: 'Odd'}\n"
     ]
    }
   ],
   "source": [
    "# Using Conditional Logic: Create a dictionary with numbers as keys and whether they are even or odd as values\n",
    "parity = {i: ('Even' if i%2 == 0 else 'Odd') for i in range(10)}\n",
    "print(parity)"
   ]
  },
  {
   "cell_type": "code",
   "execution_count": 11,
   "id": "c9a13d0c-83b2-4481-a2f0-2be3eb501a6e",
   "metadata": {},
   "outputs": [
    {
     "data": {
      "text/plain": [
       "{}"
      ]
     },
     "execution_count": 11,
     "metadata": {},
     "output_type": "execute_result"
    }
   ],
   "source": [
    "parity.clear()\n",
    "parity"
   ]
  },
  {
   "cell_type": "code",
   "execution_count": null,
   "id": "c976d565-73e1-4ec0-8fbd-355aecf9cf69",
   "metadata": {},
   "outputs": [],
   "source": []
  }
 ],
 "metadata": {
  "kernelspec": {
   "display_name": "Python 3 (ipykernel)",
   "language": "python",
   "name": "python3"
  },
  "language_info": {
   "codemirror_mode": {
    "name": "ipython",
    "version": 3
   },
   "file_extension": ".py",
   "mimetype": "text/x-python",
   "name": "python",
   "nbconvert_exporter": "python",
   "pygments_lexer": "ipython3",
   "version": "3.12.4"
  }
 },
 "nbformat": 4,
 "nbformat_minor": 5
}
