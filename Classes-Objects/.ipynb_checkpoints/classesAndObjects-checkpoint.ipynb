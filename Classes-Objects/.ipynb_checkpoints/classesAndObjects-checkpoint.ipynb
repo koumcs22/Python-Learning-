{
 "cells": [
  {
   "cell_type": "code",
   "execution_count": 6,
   "metadata": {},
   "outputs": [
    {
     "name": "stdout",
     "output_type": "stream",
     "text": [
      "======= Classes and Objects in Python =======\n"
     ]
    }
   ],
   "source": [
    "print(\"======= Classes and Objects in Python =======\")"
   ]
  },
  {
   "cell_type": "code",
   "execution_count": 7,
   "metadata": {},
   "outputs": [
    {
     "name": "stdin",
     "output_type": "stream",
     "text": [
      "Enter faculty Id 2\n",
      "Enter faculty name kkkk\n",
      "Enter faculty salary 3000\n"
     ]
    },
    {
     "name": "stdout",
     "output_type": "stream",
     "text": [
      "faculty Id is: 2\n",
      "faculty name is: kkkk\n",
      "faculty salary is: 3000.0\n"
     ]
    }
   ],
   "source": [
    "# basic Example \n",
    "class Faculty: \n",
    "    #method 1\n",
    "    def putData(self): # Refers to the instance of the class. Using self, you can store attributes like id, name, and salary specific to the object. self: Accesses the instance-specific attributes (id, name, and salary).\n",
    "        self.id = int(input(\"Enter faculty Id\"))\n",
    "        self.name = input(\"Enter faculty name\")\n",
    "        self.salary = float(input(\"Enter faculty salary\"))\n",
    "     #method 2\n",
    "    def display(self):\n",
    "        print(\"faculty Id is:\", self.id)\n",
    "        print(\"faculty name is:\", self.name)\n",
    "        print(\"faculty salary is:\", self.salary)\n",
    "        \n",
    "a = Faculty()  # Create an object `a` of the Faculty class\n",
    "a.putData()    # Call the `putData` method to input data\n",
    "a.display()    # Call the `display` method to print the data"
   ]
  },
  {
   "cell_type": "code",
   "execution_count": 9,
   "metadata": {},
   "outputs": [
    {
     "ename": "AttributeError",
     "evalue": "'student' object has no attribute 'rollno'",
     "output_type": "error",
     "traceback": [
      "\u001b[0;31m---------------------------------------------------------------------------\u001b[0m",
      "\u001b[0;31mAttributeError\u001b[0m                            Traceback (most recent call last)",
      "Cell \u001b[0;32mIn[9], line 9\u001b[0m\n\u001b[1;32m      7\u001b[0m         \u001b[38;5;28;01mreturn\u001b[39;00m \u001b[38;5;28msum\u001b[39m(\u001b[38;5;28mself\u001b[39m\u001b[38;5;241m.\u001b[39mmarks)\u001b[38;5;241m/\u001b[39m\u001b[38;5;28mlen\u001b[39m(\u001b[38;5;28mself\u001b[39m\u001b[38;5;241m.\u001b[39mmarks)\n\u001b[1;32m      8\u001b[0m first_student \u001b[38;5;241m=\u001b[39m student(\u001b[38;5;241m1\u001b[39m,\u001b[38;5;124m\"\u001b[39m\u001b[38;5;124mkoushik\u001b[39m\u001b[38;5;124m\"\u001b[39m, [\u001b[38;5;241m50\u001b[39m, \u001b[38;5;241m60\u001b[39m, \u001b[38;5;241m70\u001b[39m, \u001b[38;5;241m80\u001b[39m, \u001b[38;5;241m90\u001b[39m])\n\u001b[0;32m----> 9\u001b[0m \u001b[38;5;28mprint\u001b[39m(\u001b[43mfirst_student\u001b[49m\u001b[38;5;241;43m.\u001b[39;49m\u001b[43mrollno\u001b[49m)\n\u001b[1;32m     10\u001b[0m \u001b[38;5;28mprint\u001b[39m(first_student\u001b[38;5;241m.\u001b[39mname)\n\u001b[1;32m     11\u001b[0m \u001b[38;5;28mprint\u001b[39m(first_student\u001b[38;5;241m.\u001b[39mavarage())\n",
      "\u001b[0;31mAttributeError\u001b[0m: 'student' object has no attribute 'rollno'"
     ]
    }
   ],
   "source": [
    "class student: \n",
    "    def __init__(self, my_roll, my_name, my_marks):\n",
    "        self.rollno: my_roll\n",
    "        self.name: my_name\n",
    "        self.marks: my_marks\n",
    "    def avarage (self):\n",
    "        return sum(self.marks)/len(self.marks)\n",
    "first_student = student(1,\"koushik\", [50, 60, 70, 80, 90])\n",
    "# print(first_student.rollno)\n",
    "print(first_student.name)\n",
    "print(first_student.avarage())"
   ]
  },
  {
   "cell_type": "code",
   "execution_count": null,
   "metadata": {},
   "outputs": [],
   "source": []
  }
 ],
 "metadata": {
  "kernelspec": {
   "display_name": "Python 3 (ipykernel)",
   "language": "python",
   "name": "python3"
  },
  "language_info": {
   "codemirror_mode": {
    "name": "ipython",
    "version": 3
   },
   "file_extension": ".py",
   "mimetype": "text/x-python",
   "name": "python",
   "nbconvert_exporter": "python",
   "pygments_lexer": "ipython3",
   "version": "3.12.4"
  }
 },
 "nbformat": 4,
 "nbformat_minor": 4
}
