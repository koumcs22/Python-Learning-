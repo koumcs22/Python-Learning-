{
 "cells": [
  {
   "cell_type": "code",
   "execution_count": 15,
   "metadata": {},
   "outputs": [
    {
     "name": "stdout",
     "output_type": "stream",
     "text": [
      "In Python, a class is a blueprint for creating objects (instances). Classes encapsulate data for the object (attributes) and methods (functions) that define the behavior of the object. Using classes allows you to structure your code in an object-oriented way, which can make it easier to understand, maintain, and extend.\n"
     ]
    }
   ],
   "source": [
    "print(\"In Python, a class is a blueprint for creating objects (instances). Classes encapsulate data for the object (attributes) and methods (functions) that define the behavior of the object. Using classes allows you to structure your code in an object-oriented way, which can make it easier to understand, maintain, and extend.\")\n"
   ]
  },
  {
   "cell_type": "code",
   "execution_count": 7,
   "metadata": {},
   "outputs": [
    {
     "name": "stdin",
     "output_type": "stream",
     "text": [
      "Enter faculty Id 2\n",
      "Enter faculty name kkkk\n",
      "Enter faculty salary 3000\n"
     ]
    },
    {
     "name": "stdout",
     "output_type": "stream",
     "text": [
      "faculty Id is: 2\n",
      "faculty name is: kkkk\n",
      "faculty salary is: 3000.0\n"
     ]
    }
   ],
   "source": [
    "# basic Example \n",
    "class Faculty: \n",
    "    #method 1\n",
    "    def putData(self): # Refers to the instance of the class. Using self, you can store attributes like id, name, and salary specific to the object. self: Accesses the instance-specific attributes (id, name, and salary).\n",
    "        self.id = int(input(\"Enter faculty Id\"))\n",
    "        self.name = input(\"Enter faculty name\")\n",
    "        self.salary = float(input(\"Enter faculty salary\"))\n",
    "     #method 2\n",
    "    def display(self):\n",
    "        print(\"faculty Id is:\", self.id)\n",
    "        print(\"faculty name is:\", self.name)\n",
    "        print(\"faculty salary is:\", self.salary)\n",
    "        \n",
    "a = Faculty()  # Create an object `a` of the Faculty class\n",
    "a.putData()    # Call the `putData` method to input data\n",
    "a.display()    # Call the `display` method to print the data"
   ]
  },
  {
   "cell_type": "code",
   "execution_count": 14,
   "metadata": {},
   "outputs": [
    {
     "name": "stdout",
     "output_type": "stream",
     "text": [
      "1\n",
      "koushik\n",
      "70.0\n"
     ]
    }
   ],
   "source": [
    "class student:  #Constructor (__init__ method): ## Constructor to initialize object attributes\n",
    "    def __init__(self, my_roll, my_name, my_marks):\n",
    "        self.rollno = my_roll\n",
    "        self.name = my_name\n",
    "        self.marks = my_marks\n",
    "    def avarage (self):\n",
    "        return sum(self.marks)/len(self.marks)\n",
    "first_student = student(1,\"koushik\", [50, 60, 70, 80, 90])\n",
    "print(first_student.rollno)\n",
    "print(first_student.name)\n",
    "print(first_student.avarage())"
   ]
  },
  {
   "cell_type": "code",
   "execution_count": 17,
   "metadata": {},
   "outputs": [
    {
     "name": "stdout",
     "output_type": "stream",
     "text": [
      "The __init__ method is the constructor. It's automatically called when you create an instance of a class. It’s typically used to initialize the attributes of the class.\n"
     ]
    }
   ],
   "source": [
    "#Constructor (__init__ method):\n",
    "print (\"The __init__ method is the constructor. It's automatically called when you create an instance of a class. It’s typically used to initialize the attributes of the class.\")"
   ]
  },
  {
   "cell_type": "code",
   "execution_count": 19,
   "metadata": {},
   "outputs": [
    {
     "name": "stdin",
     "output_type": "stream",
     "text": [
      "Enter faculty Id 1\n",
      "Enter faculty name kjkjk\n",
      "Enter faculty salary 100\n"
     ]
    },
    {
     "name": "stdout",
     "output_type": "stream",
     "text": [
      "faculty Id is: 1\n",
      "faculty name is: kjkjk\n",
      "faculty salary is: 100.0\n"
     ]
    }
   ],
   "source": [
    "# Faculty code using Constructor: \n",
    "class Faculty: \n",
    "    #method 1\n",
    "    def __init__(self): # Refers to the instance of the class. Using self, you can store attributes like id, name, and salary specific to the object. self: Accesses the instance-specific attributes (id, name, and salary).\n",
    "        self.id = int(input(\"Enter faculty Id\"))\n",
    "        self.name = input(\"Enter faculty name\")\n",
    "        self.salary = float(input(\"Enter faculty salary\"))\n",
    "     #method 2\n",
    "    def display(self):\n",
    "        print(\"faculty Id is:\", self.id)\n",
    "        print(\"faculty name is:\", self.name)\n",
    "        print(\"faculty salary is:\", self.salary)\n",
    "        \n",
    "a = Faculty() \n",
    "a.display() "
   ]
  },
  {
   "cell_type": "code",
   "execution_count": 1,
   "metadata": {},
   "outputs": [
    {
     "name": "stdout",
     "output_type": "stream",
     "text": [
      "faculty Id is: 1\n",
      "faculty name is: koushik\n",
      "faculty salary is: 1000\n"
     ]
    }
   ],
   "source": [
    "#another version by passing parameter : also interview Ques\n",
    "class faculty: \n",
    "    #method 1\n",
    "    def __init__(self, a, b, c): \n",
    "        self.f_id = a\n",
    "        self.name = b\n",
    "        self.salary = c\n",
    "    def display(self):\n",
    "        print(\"faculty Id is:\", self.f_id)\n",
    "        print(\"faculty name is:\", self.name)\n",
    "        print(\"faculty salary is:\", self.salary)\n",
    "        \n",
    "a = faculty(1, \"koushik\",1000) \n",
    "a.display() "
   ]
  },
  {
   "cell_type": "code",
   "execution_count": null,
   "metadata": {},
   "outputs": [],
   "source": [
    "# Inheritance In Python \n"
   ]
  }
 ],
 "metadata": {
  "kernelspec": {
   "display_name": "Python 3 (ipykernel)",
   "language": "python",
   "name": "python3"
  },
  "language_info": {
   "codemirror_mode": {
    "name": "ipython",
    "version": 3
   },
   "file_extension": ".py",
   "mimetype": "text/x-python",
   "name": "python",
   "nbconvert_exporter": "python",
   "pygments_lexer": "ipython3",
   "version": "3.12.4"
  }
 },
 "nbformat": 4,
 "nbformat_minor": 4
}
