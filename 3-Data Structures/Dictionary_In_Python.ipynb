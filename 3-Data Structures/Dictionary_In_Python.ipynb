{
 "cells": [
  {
   "cell_type": "code",
   "execution_count": 5,
   "id": "dbbf0a37-527e-48bc-9759-b7f60bbbe752",
   "metadata": {},
   "outputs": [
    {
     "data": {
      "text/plain": [
       "{'x': 'Koushik', 'y': 'Koushik', 'z': 'Koushik'}"
      ]
     },
     "execution_count": 5,
     "metadata": {},
     "output_type": "execute_result"
    }
   ],
   "source": [
    "# Dictionary_In_Python\n",
    "keys = [\"x\", \"y\", \"z\"]\n",
    "default_value = \"Koushik\"\n",
    "new_dict = dict.fromkeys(keys, default_value)\n",
    "new_dict"
   ]
  },
  {
   "cell_type": "code",
   "execution_count": 7,
   "id": "5abd2e16-3cd1-4379-ae89-591c29a55abb",
   "metadata": {},
   "outputs": [
    {
     "data": {
      "text/plain": [
       "{'x': ['x', 'y', 'z'], 'y': ['x', 'y', 'z'], 'z': ['x', 'y', 'z']}"
      ]
     },
     "execution_count": 7,
     "metadata": {},
     "output_type": "execute_result"
    }
   ],
   "source": [
    "new_dict = dict.fromkeys(keys, keys)\n",
    "new_dict"
   ]
  },
  {
   "cell_type": "code",
   "execution_count": null,
   "id": "4bc77ed7-c05e-449e-b13a-bbea40d7e35e",
   "metadata": {},
   "outputs": [],
   "source": []
  }
 ],
 "metadata": {
  "kernelspec": {
   "display_name": "Python 3 (ipykernel)",
   "language": "python",
   "name": "python3"
  },
  "language_info": {
   "codemirror_mode": {
    "name": "ipython",
    "version": 3
   },
   "file_extension": ".py",
   "mimetype": "text/x-python",
   "name": "python",
   "nbconvert_exporter": "python",
   "pygments_lexer": "ipython3",
   "version": "3.12.4"
  }
 },
 "nbformat": 4,
 "nbformat_minor": 5
}
