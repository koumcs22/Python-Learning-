{
 "cells": [
  {
   "cell_type": "code",
   "execution_count": 1,
   "metadata": {},
   "outputs": [
    {
     "name": "stdout",
     "output_type": "stream",
     "text": [
      "==== Python Exception Handling ====\n"
     ]
    }
   ],
   "source": [
    "print(\"==== Python Exception Handling ====\")"
   ]
  },
  {
   "cell_type": "code",
   "execution_count": 6,
   "metadata": {},
   "outputs": [
    {
     "ename": "TypeError",
     "evalue": "unsupported operand type(s) for +: 'int' and 'str'",
     "output_type": "error",
     "traceback": [
      "\u001b[0;31m---------------------------------------------------------------------------\u001b[0m",
      "\u001b[0;31mTypeError\u001b[0m                                 Traceback (most recent call last)",
      "Cell \u001b[0;32mIn[6], line 3\u001b[0m\n\u001b[1;32m      1\u001b[0m a\u001b[38;5;241m=\u001b[39m\u001b[38;5;241m1\u001b[39m\n\u001b[1;32m      2\u001b[0m b\u001b[38;5;241m=\u001b[39m \u001b[38;5;124m\"\u001b[39m\u001b[38;5;124mk\u001b[39m\u001b[38;5;124m\"\u001b[39m\n\u001b[0;32m----> 3\u001b[0m c\u001b[38;5;241m=\u001b[39m \u001b[43ma\u001b[49m\u001b[43m \u001b[49m\u001b[38;5;241;43m+\u001b[39;49m\u001b[43m \u001b[49m\u001b[43mb\u001b[49m\n",
      "\u001b[0;31mTypeError\u001b[0m: unsupported operand type(s) for +: 'int' and 'str'"
     ]
    }
   ],
   "source": [
    " a=1\n",
    " b= \"k\"\n",
    " c= a + b"
   ]
  },
  {
   "cell_type": "code",
   "execution_count": 2,
   "metadata": {},
   "outputs": [
    {
     "name": "stdout",
     "output_type": "stream",
     "text": [
      "name 'b' is not defined\n"
     ]
    }
   ],
   "source": [
    "# scenario_1\n",
    "try:\n",
    "    a=b\n",
    "except Exception as ex: # parent exception class\n",
    "    print(ex)"
   ]
  },
  {
   "cell_type": "code",
   "execution_count": 5,
   "metadata": {},
   "outputs": [
    {
     "name": "stdout",
     "output_type": "stream",
     "text": [
      "name 'b' is not defined\n",
      "child exception class call\n"
     ]
    }
   ],
   "source": [
    "# scenario_2\n",
    "try:\n",
    "    a=b\n",
    "except NameError as ex1: # child exception class\n",
    "    print(ex1)\n",
    "    print(\"child exception class call\")\n",
    "except Exception as ex: # parent exception class\n",
    "    print(ex)\n",
    "    print(\"parent exception class call\")"
   ]
  },
  {
   "cell_type": "code",
   "execution_count": 7,
   "metadata": {},
   "outputs": [
    {
     "name": "stdout",
     "output_type": "stream",
     "text": [
      "unsupported operand type(s) for +: 'int' and 'str'\n",
      "child exception class call\n"
     ]
    }
   ],
   "source": [
    "# scenario_3\n",
    "try:\n",
    "    a=1\n",
    "    b= \"k\"\n",
    "    c= a + b\n",
    "except NameError as ex1: # child exception class\n",
    "    print(ex1)\n",
    "    print(\"child exception class call\")\n",
    "except TypeError as ex2: # child exception class\n",
    "    print(ex2)\n",
    "    print(\"child exception class call\")\n",
    "except Exception as ex: # parent exception class\n",
    "    print(ex)\n",
    "    print(\"parent exception class call\")"
   ]
  },
  {
   "cell_type": "code",
   "execution_count": 11,
   "metadata": {},
   "outputs": [
    {
     "name": "stdin",
     "output_type": "stream",
     "text": [
      "Enter no 1 12\n",
      "Enter no 2 0\n"
     ]
    },
    {
     "name": "stdout",
     "output_type": "stream",
     "text": [
      "Please Enter no greater than Zero\n",
      "child exception class call\n"
     ]
    }
   ],
   "source": [
    "# scenario_4\n",
    "try:\n",
    "    a= int (input(\"Enter no 1\"))\n",
    "    b= int (input(\"Enter no 2\"))\n",
    "    c= a + b\n",
    "    d= a/b\n",
    "    e = a*b\n",
    "except NameError as ex1: # child exception class\n",
    "    print(ex1)\n",
    "    print(\"child exception class call\")\n",
    "except ZeroDivisionError : # child exception class\n",
    "    print(\"Please Enter no greater than Zero\")\n",
    "except TypeError as ex3: # child exception class\n",
    "    print(ex2)\n",
    "    print(\"child exception class call\")\n",
    "except Exception as ex: # parent exception class\n",
    "    print(ex)\n",
    "    print(\"parent exception class call\")"
   ]
  },
  {
   "cell_type": "code",
   "execution_count": 9,
   "metadata": {},
   "outputs": [
    {
     "ename": "ZeroDivisionError",
     "evalue": "division by zero",
     "output_type": "error",
     "traceback": [
      "\u001b[0;31m---------------------------------------------------------------------------\u001b[0m",
      "\u001b[0;31mZeroDivisionError\u001b[0m                         Traceback (most recent call last)",
      "Cell \u001b[0;32mIn[9], line 3\u001b[0m\n\u001b[1;32m      1\u001b[0m a \u001b[38;5;241m=\u001b[39m\u001b[38;5;241m12\u001b[39m\n\u001b[1;32m      2\u001b[0m b\u001b[38;5;241m=\u001b[39m\u001b[38;5;241m0\u001b[39m\n\u001b[0;32m----> 3\u001b[0m c\u001b[38;5;241m=\u001b[39m \u001b[43ma\u001b[49m\u001b[38;5;241;43m/\u001b[39;49m\u001b[43mb\u001b[49m\n",
      "\u001b[0;31mZeroDivisionError\u001b[0m: division by zero"
     ]
    }
   ],
   "source": [
    "a =12\n",
    "b=0\n",
    "c= a/b\n"
   ]
  },
  {
   "cell_type": "code",
   "execution_count": null,
   "metadata": {},
   "outputs": [],
   "source": []
  }
 ],
 "metadata": {
  "kernelspec": {
   "display_name": "Python 3 (ipykernel)",
   "language": "python",
   "name": "python3"
  },
  "language_info": {
   "codemirror_mode": {
    "name": "ipython",
    "version": 3
   },
   "file_extension": ".py",
   "mimetype": "text/x-python",
   "name": "python",
   "nbconvert_exporter": "python",
   "pygments_lexer": "ipython3",
   "version": "3.12.4"
  }
 },
 "nbformat": 4,
 "nbformat_minor": 4
}
