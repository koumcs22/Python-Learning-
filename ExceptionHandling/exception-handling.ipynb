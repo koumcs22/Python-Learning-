{
 "cells": [
  {
   "cell_type": "code",
   "execution_count": 18,
   "metadata": {},
   "outputs": [
    {
     "name": "stdout",
     "output_type": "stream",
     "text": [
      "Q: Difference Between Error & Exception in Python?\n",
      "A: Errors are problems that occur due to incorrect syntax or issues in the code and are typically unhandled, while exceptions are runtime errors that can be caught and handled using try-except blocks.\n"
     ]
    }
   ],
   "source": [
    "print(\"Q: Difference Between Error & Exception in Python?\\nA: Errors are problems that occur due to incorrect syntax or issues in the code and are typically unhandled, while exceptions are runtime errors that can be caught and handled using try-except blocks.\")\n"
   ]
  },
  {
   "cell_type": "code",
   "execution_count": 19,
   "metadata": {},
   "outputs": [],
   "source": [
    " # a=1\n",
    " # b= \"k\"\n",
    " #    c= a + b"
   ]
  },
  {
   "cell_type": "code",
   "execution_count": 2,
   "metadata": {},
   "outputs": [
    {
     "name": "stdout",
     "output_type": "stream",
     "text": [
      "name 'b' is not defined\n"
     ]
    }
   ],
   "source": [
    "# scenario_1\n",
    "try:\n",
    "    a=b\n",
    "except Exception as ex: # parent exception class\n",
    "    print(ex)"
   ]
  },
  {
   "cell_type": "code",
   "execution_count": 5,
   "metadata": {},
   "outputs": [
    {
     "name": "stdout",
     "output_type": "stream",
     "text": [
      "name 'b' is not defined\n",
      "child exception class call\n"
     ]
    }
   ],
   "source": [
    "# scenario_2\n",
    "try:\n",
    "    a=b\n",
    "except NameError as ex1: # child exception class\n",
    "    print(ex1)\n",
    "    print(\"child exception class call\")\n",
    "except Exception as ex: # parent exception class\n",
    "    print(ex)\n",
    "    print(\"parent exception class call\")"
   ]
  },
  {
   "cell_type": "code",
   "execution_count": 7,
   "metadata": {},
   "outputs": [
    {
     "name": "stdout",
     "output_type": "stream",
     "text": [
      "unsupported operand type(s) for +: 'int' and 'str'\n",
      "child exception class call\n"
     ]
    }
   ],
   "source": [
    "# scenario_3\n",
    "try:\n",
    "    a=1\n",
    "    b= \"k\"\n",
    "    c= a + b\n",
    "except NameError as ex1: # child exception class\n",
    "    print(ex1)\n",
    "    print(\"child exception class call\")\n",
    "except TypeError as ex2: # child exception class\n",
    "    print(ex2)\n",
    "    print(\"child exception class call\")\n",
    "except Exception as ex: # parent exception class\n",
    "    print(ex)\n",
    "    print(\"parent exception class call\")"
   ]
  },
  {
   "cell_type": "code",
   "execution_count": 11,
   "metadata": {},
   "outputs": [
    {
     "name": "stdin",
     "output_type": "stream",
     "text": [
      "Enter no 1 12\n",
      "Enter no 2 0\n"
     ]
    },
    {
     "name": "stdout",
     "output_type": "stream",
     "text": [
      "Please Enter no greater than Zero\n",
      "child exception class call\n"
     ]
    }
   ],
   "source": [
    "# scenario_4\n",
    "try:\n",
    "    a= int (input(\"Enter no 1\"))\n",
    "    b= int (input(\"Enter no 2\"))\n",
    "    c= a + b\n",
    "    d= a/b\n",
    "    e = a*b\n",
    "except NameError as ex1: # child exception class\n",
    "    print(ex1)\n",
    "    print(\"child exception class call\")\n",
    "except ZeroDivisionError : # child exception class\n",
    "    print(\"Please Enter no greater than Zero\")\n",
    "except TypeError as ex3: # child exception class\n",
    "    print(ex2)\n",
    "    print(\"child exception class call\")\n",
    "except Exception as ex: # parent exception class\n",
    "    print(ex)\n",
    "    print(\"parent exception class call\")"
   ]
  },
  {
   "cell_type": "code",
   "execution_count": 13,
   "metadata": {},
   "outputs": [
    {
     "name": "stdin",
     "output_type": "stream",
     "text": [
      "Enter a number: 0\n"
     ]
    },
    {
     "name": "stdout",
     "output_type": "stream",
     "text": [
      "You can't divide by zero!\n"
     ]
    }
   ],
   "source": [
    "## try,except,else block\n",
    "try:\n",
    "    num=int(input(\"Enter a number:\"))\n",
    "    result=10/num\n",
    "except ValueError:\n",
    "    print(\"That's not a valid number!\")\n",
    "except ZeroDivisionError:\n",
    "    print(\"You can't divide by zero!\")\n",
    "except Exception as ex:\n",
    "    print(ex)\n",
    "else:\n",
    "    print(f\"the result is {result}\")\n",
    "\n"
   ]
  },
  {
   "cell_type": "code",
   "execution_count": null,
   "metadata": {},
   "outputs": [],
   "source": [
    "## try,except,else and finally\n",
    "try:\n",
    "    num = int(input(\"Enter a number: \"))\n",
    "    result = 10 / num\n",
    "except ValueError:\n",
    "    print(\"That's not a valid number!\")\n",
    "except ZeroDivisionError:\n",
    "    print(\"You can't divide by zero!\")\n",
    "except Exception as ex:\n",
    "    print(ex)\n",
    "else:\n",
    "    print(f\"The result is {result}\")\n",
    "finally:\n",
    "    print(\"Execution complete.\")  # basic Ezample to use finally :it execute always. for example , after some logical operation , if there is some exeception but data base connection is open . thattime we can close data bse connection if exception occurs\n"
   ]
  },
  {
   "cell_type": "code",
   "execution_count": null,
   "metadata": {},
   "outputs": [],
   "source": []
  }
 ],
 "metadata": {
  "kernelspec": {
   "display_name": "Python 3 (ipykernel)",
   "language": "python",
   "name": "python3"
  },
  "language_info": {
   "codemirror_mode": {
    "name": "ipython",
    "version": 3
   },
   "file_extension": ".py",
   "mimetype": "text/x-python",
   "name": "python",
   "nbconvert_exporter": "python",
   "pygments_lexer": "ipython3",
   "version": "3.12.4"
  }
 },
 "nbformat": 4,
 "nbformat_minor": 4
}
