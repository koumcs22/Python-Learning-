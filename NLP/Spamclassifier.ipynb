{
 "cells": [
  {
   "cell_type": "markdown",
   "id": "0ed87822-ca2a-49aa-8aa8-6f6af79172b6",
   "metadata": {},
   "source": [
    "#### Download data set from UCI Machine learning Repository \n",
    "link : https://archive.ics.uci.edu/dataset/228/sms+spam+collection"
   ]
  },
  {
   "cell_type": "code",
   "execution_count": null,
   "id": "9b23e8be-38ed-490b-8732-50ae49221fc6",
   "metadata": {},
   "outputs": [],
   "source": []
  }
 ],
 "metadata": {
  "kernelspec": {
   "display_name": "Python 3 (ipykernel)",
   "language": "python",
   "name": "python3"
  },
  "language_info": {
   "codemirror_mode": {
    "name": "ipython",
    "version": 3
   },
   "file_extension": ".py",
   "mimetype": "text/x-python",
   "name": "python",
   "nbconvert_exporter": "python",
   "pygments_lexer": "ipython3",
   "version": "3.9.6"
  }
 },
 "nbformat": 4,
 "nbformat_minor": 5
}
